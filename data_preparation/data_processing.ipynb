{
 "cells": [
  {
   "cell_type": "code",
   "execution_count": 1,
   "source": [
    "import json\n",
    "import pandas as pd\n",
    "\n",
    "data = {}\n",
    "df = pd.read_csv(\"./features.csv\")"
   ],
   "outputs": [],
   "metadata": {}
  },
  {
   "cell_type": "code",
   "execution_count": 2,
   "source": [
    "col_names = []\n",
    "for col in df.columns:\n",
    "    col_names.append(col)"
   ],
   "outputs": [],
   "metadata": {}
  },
  {
   "cell_type": "code",
   "execution_count": 3,
   "source": [
    "col_names.remove(\" T2301\")"
   ],
   "outputs": [],
   "metadata": {}
  },
  {
   "cell_type": "code",
   "execution_count": 4,
   "source": [
    "data[\"features\"] = col_names\n",
    "data[\"key_feature\"] = \"T2301\""
   ],
   "outputs": [],
   "metadata": {}
  },
  {
   "cell_type": "code",
   "execution_count": 6,
   "source": [
    "with open(\"./feature_dict.json\", \"w\") as f:\n",
    "    json.dump(data, f)"
   ],
   "outputs": [],
   "metadata": {}
  },
  {
   "cell_type": "code",
   "execution_count": null,
   "source": [],
   "outputs": [],
   "metadata": {}
  }
 ],
 "metadata": {
  "orig_nbformat": 4,
  "language_info": {
   "name": "python",
   "version": "3.10.2",
   "mimetype": "text/x-python",
   "codemirror_mode": {
    "name": "ipython",
    "version": 3
   },
   "pygments_lexer": "ipython3",
   "nbconvert_exporter": "python",
   "file_extension": ".py"
  },
  "kernelspec": {
   "name": "python3",
   "display_name": "Python 3.10.2 64-bit ('tf2': conda)"
  },
  "interpreter": {
   "hash": "87aed09cdc020152a432ad7dc200dd50756bf1d7b089e6c64f2614ae8fb8ed0f"
  }
 },
 "nbformat": 4,
 "nbformat_minor": 2
}